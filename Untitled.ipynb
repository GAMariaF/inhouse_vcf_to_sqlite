{
 "cells": [
  {
   "cell_type": "code",
   "execution_count": 11,
   "metadata": {},
   "outputs": [],
   "source": [
    "import pandas as pd\n",
    "import sqlite3\n",
    "\n",
    "# I know there are libraries for doing this snappier"
   ]
  },
  {
   "cell_type": "code",
   "execution_count": 18,
   "metadata": {},
   "outputs": [],
   "source": [
    "# read VCF\n",
    "vcf = pd.read_csv(open(\"tests/1082_21.raw.variants.Filtered.individual.annotated.subset.ataksi.vcf\",'rb'), index_col=False,delimiter='\\t',comment='#', header=0, usecols=[0, 1, 2, 3, 4, 5, 6, 9] ,names=[\"CHROM\", \"POS\", \"ID\", \"REF\", \"ALT\", \"QUAL\", \"FILTER\", \"INFO\"], converters = { 'INFO' : lambda x : x.split(':')[0] })\n"
   ]
  },
  {
   "cell_type": "code",
   "execution_count": 19,
   "metadata": {},
   "outputs": [],
   "source": [
    "test = vcf.head()"
   ]
  },
  {
   "cell_type": "code",
   "execution_count": null,
   "metadata": {},
   "outputs": [],
   "source": []
  },
  {
   "cell_type": "code",
   "execution_count": 14,
   "metadata": {},
   "outputs": [
    {
     "ename": "SyntaxError",
     "evalue": "invalid syntax (<ipython-input-14-3a47030360d1>, line 2)",
     "output_type": "error",
     "traceback": [
      "\u001b[0;36m  File \u001b[0;32m\"<ipython-input-14-3a47030360d1>\"\u001b[0;36m, line \u001b[0;32m2\u001b[0m\n\u001b[0;31m    1       13281   .       C       G       .       .       IHSAMPLES=401_18(HET)_287_12(HET);IHHET=2;IHHOM=0\u001b[0m\n\u001b[0m                ^\u001b[0m\n\u001b[0;31mSyntaxError\u001b[0m\u001b[0;31m:\u001b[0m invalid syntax\n"
     ]
    }
   ],
   "source": [
    "#CHROM  POS     ID      REF     ALT     QUAL    FILTER  INFO\n",
    "1       13281   .       C       G       .       .       IHSAMPLES=401_18(HET)_287_12(HET);IHHET=2;IHHOM=0"
   ]
  },
  {
   "cell_type": "code",
   "execution_count": 20,
   "metadata": {},
   "outputs": [
    {
     "name": "stdout",
     "output_type": "stream",
     "text": [
      "Opened database successfully\n",
      "Table created successfully\n",
      "Table created successfully\n",
      "Database closed successfully\n"
     ]
    }
   ],
   "source": [
    "# CREATE DB IF NOT EXISTS\n",
    "conn = sqlite3.connect('inhouse.db')\n",
    "print \"Opened database successfully\";\n",
    "\n",
    "conn.execute('''CREATE TABLE VARIANTS\n",
    "         (ID TEXT PRIMARY KEY,\n",
    "         CHROM     CHAR(5)    NOT NULL,\n",
    "         POS       INT     NOT NULL,\n",
    "         var_ID    CHAR(50),\n",
    "         REF       CHAR(50),\n",
    "         ALT       CHAR(50),\n",
    "         QUAL      REAL);''')\n",
    "print \"Table created successfully\";\n",
    "\n",
    "conn.execute('''CREATE TABLE SAMPLES\n",
    "         (ID INT PRIMARY KEY AUTOINCREMENT,\n",
    "         VARIANT TEXT PRIMARY KEY     NOT NULL,\n",
    "          FILTER  TEXT,\n",
    "          SAMPLE  TEXT,\n",
    "          GT      CHAR(50));''')\n",
    "print \"Table created successfully\";\n",
    "  \n",
    "conn.close()\n",
    "print \"Database closed successfully\";\n"
   ]
  },
  {
   "cell_type": "code",
   "execution_count": 21,
   "metadata": {},
   "outputs": [
    {
     "name": "stdout",
     "output_type": "stream",
     "text": [
      "Opened database successfully\n",
      "Records created successfully\n"
     ]
    }
   ],
   "source": [
    "## INSERT DATA FROM VCF INTO DB:\n",
    "conn = sqlite3.connect('inhouse.db')\n",
    "print \"Opened database successfully\";\n",
    "cursor = conn.cursor()\n",
    "\n",
    "\n",
    "sample_name = \"1082_21\"\n",
    "\n",
    "for index, row in test.iterrows():\n",
    "    # if not exist\n",
    "    insert_with_param = \"\"\"INSERT OR IGNORE INTO VARIANTS (ID, CHROM, POS, var_ID, REF, ALT, QUAL) VALUES (?,?,?,?,?,?,?)\"\"\";\n",
    "    data_tuple = (\"{}{}{}{}\".format(row['CHROM'],row['POS'],row['REF'],row['ALT']), row['CHROM'], row['POS'], row['ID'], row['REF'], row['ALT'], row['QUAL'])\n",
    "    cursor.execute(insert_with_param, data_tuple)\n",
    "    \n",
    "    \n",
    "    # Update sample data:\n",
    "    insert_sample_with_param = \"\"\"INSERT INTO SAMPLES (ID, FILTER, GT,SAMPLE) VALUES (?,?,?,?)\"\"\";\n",
    "    sample_tuple = (\"{}{}{}{}\".format(row['CHROM'],row['POS'],row['REF'],row['ALT']), row['FILTER'], row['INFO'], sample_name)\n",
    "    cursor.execute(insert_sample_with_param, sample_tuple)\n",
    "    conn.commit()\n",
    "    \n",
    "\n",
    "print \"Records created successfully\";\n",
    "cursor.close()\n",
    "conn.close()\n",
    "\n",
    "\n"
   ]
  },
  {
   "cell_type": "code",
   "execution_count": null,
   "metadata": {},
   "outputs": [],
   "source": []
  },
  {
   "cell_type": "code",
   "execution_count": null,
   "metadata": {},
   "outputs": [],
   "source": []
  },
  {
   "cell_type": "code",
   "execution_count": null,
   "metadata": {},
   "outputs": [],
   "source": []
  },
  {
   "cell_type": "code",
   "execution_count": null,
   "metadata": {},
   "outputs": [],
   "source": []
  },
  {
   "cell_type": "code",
   "execution_count": null,
   "metadata": {},
   "outputs": [],
   "source": []
  },
  {
   "cell_type": "code",
   "execution_count": null,
   "metadata": {},
   "outputs": [],
   "source": [
    "\n",
    "\n",
    "\n",
    "\n",
    "\n",
    "\n",
    "\n",
    "\n",
    "\n",
    "\n",
    "\n"
   ]
  },
  {
   "cell_type": "code",
   "execution_count": null,
   "metadata": {},
   "outputs": [],
   "source": [
    "import sqlite3\n",
    "\n",
    "def insertVaribleIntoTable(id, name, email, joinDate, salary):\n",
    "    try:\n",
    "        sqliteConnection = sqlite3.connect('SQLite_Python.db')\n",
    "        cursor = sqliteConnection.cursor()\n",
    "        print(\"Connected to SQLite\")\n",
    "\n",
    "        sqlite_insert_with_param = \"\"\"INSERT INTO SqliteDb_developers\n",
    "                          (id, name, email, joining_date, salary) \n",
    "                          VALUES (?, ?, ?, ?, ?);\"\"\"\n",
    "\n",
    "        data_tuple = (id, name, email, joinDate, salary)\n",
    "        cursor.execute(sqlite_insert_with_param, data_tuple)\n",
    "        sqliteConnection.commit()\n",
    "        print(\"Python Variables inserted successfully into SqliteDb_developers table\")\n",
    "\n",
    "        cursor.close()\n",
    "\n",
    "    except sqlite3.Error as error:\n",
    "        print(\"Failed to insert Python variable into sqlite table\", error)\n",
    "    finally:\n",
    "        if sqliteConnection:\n",
    "            sqliteConnection.close()\n",
    "            print(\"The SQLite connection is closed\")\n",
    "\n",
    "insertVaribleIntoTable(2, 'Joe', 'joe@pynative.com', '2019-05-19', 9000)\n",
    "insertVaribleIntoTable(3, 'Ben', 'ben@pynative.com', '2019-02-23', 9500)"
   ]
  }
 ],
 "metadata": {
  "kernelspec": {
   "display_name": "Python 2",
   "language": "python",
   "name": "python2"
  },
  "language_info": {
   "codemirror_mode": {
    "name": "ipython",
    "version": 2
   },
   "file_extension": ".py",
   "mimetype": "text/x-python",
   "name": "python",
   "nbconvert_exporter": "python",
   "pygments_lexer": "ipython2",
   "version": "2.7.16"
  }
 },
 "nbformat": 4,
 "nbformat_minor": 2
}
